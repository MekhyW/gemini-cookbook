{
  "cells": [
    {
      "cell_type": "markdown",
      "metadata": {
        "id": "Tce3stUlHN0L"
      },
      "source": [
        "##### Copyright 2024 Google LLC."
      ]
    },
    {
      "cell_type": "code",
      "execution_count": null,
      "metadata": {
        "cellView": "form",
        "id": "tuOe1ymfHZPu"
      },
      "outputs": [],
      "source": [
        "# @title Licensed under the Apache License, Version 2.0 (the \"License\");\n",
        "# you may not use this file except in compliance with the License.\n",
        "# You may obtain a copy of the License at\n",
        "#\n",
        "# https://www.apache.org/licenses/LICENSE-2.0\n",
        "#\n",
        "# Unless required by applicable law or agreed to in writing, software\n",
        "# distributed under the License is distributed on an \"AS IS\" BASIS,\n",
        "# WITHOUT WARRANTIES OR CONDITIONS OF ANY KIND, either express or implied.\n",
        "# See the License for the specific language governing permissions and\n",
        "# limitations under the License."
      ]
    },
    {
      "cell_type": "markdown",
      "metadata": {
        "id": "yeadDkMiISin"
      },
      "source": [
        "# Gemini API: Streaming Quickstart"
      ]
    },
    {
      "cell_type": "markdown",
      "metadata": {
        "id": "3f5bc95b9107"
      },
      "source": [
        "<table align=\"left\">\n",
        "  <td>\n",
        "    <a target=\"_blank\" href=\"https://colab.research.google.com/github/google-gemini/cookbook/blob/main/quickstarts/Streaming.ipynb\"><img src=\"https://www.tensorflow.org/images/colab_logo_32px.png\" />Run in Google Colab</a>\n",
        "  </td>\n",
        "</table>\n",
        "\n",
        "**Important note: Download this notebook and run it locally (not in Google Colab)**\n",
        "\n",
        "Streaming is not handled correctly in Google Colab yet. Currently all the stream chunks are returned together, not as they are generated. To see the correct behavior, download this notebook and run it locally using Jupyter, instead."
      ]
    },
    {
      "cell_type": "markdown",
      "metadata": {
        "id": "df1767a3d1cc"
      },
      "source": [
        "This notebook demonstrates streaming in the Python SDK. By default, the Python SDK returns a response after the model completes the entire generation process. You can also stream the response as it is being generated, and the model will return chunks of the response as soon as they are generated."
      ]
    },
    {
      "cell_type": "code",
      "execution_count": null,
      "metadata": {
        "id": "xuiLSV7amy3P"
      },
      "outputs": [],
      "source": [
        "!pip install -U -q google-generativeai # Install the Python SDK"
      ]
    },
    {
      "cell_type": "code",
      "execution_count": 1,
      "metadata": {
        "id": "79EWm0DAmy-g"
      },
      "outputs": [
        {
          "name": "stderr",
          "output_type": "stream",
          "text": [
            "C:\\Users\\felip\\AppData\\Roaming\\Python\\Python310\\site-packages\\tqdm\\auto.py:21: TqdmWarning: IProgress not found. Please update jupyter and ipywidgets. See https://ipywidgets.readthedocs.io/en/stable/user_install.html\n",
            "  from .autonotebook import tqdm as notebook_tqdm\n"
          ]
        }
      ],
      "source": [
        "import google.generativeai as genai"
      ]
    },
    {
      "cell_type": "markdown",
      "metadata": {
        "id": "DkeZNMrw6kPD"
      },
      "source": [
        "You'll need an API key stored in an environment variable to run this notebook. See the the [Authentication quickstart](https://github.com/google-gemini/cookbook/blob/main/quickstarts/Authentication.ipynb) for an example."
      ]
    },
    {
      "cell_type": "code",
      "execution_count": 2,
      "metadata": {
        "id": "t9O-OzeAKC_m"
      },
      "outputs": [],
      "source": [
        "import json\n",
        "\n",
        "GOOGLE_API_KEY=json.load(open('api_key.json'))['GOOGLE_API_KEY']\n",
        "genai.configure(api_key=GOOGLE_API_KEY)"
      ]
    },
    {
      "cell_type": "markdown",
      "metadata": {
        "id": "BUoa5q0iUuE1"
      },
      "source": [
        "## Handle streaming responses\n",
        "\n",
        "To stream responses, use [`GenerativeModel.generate_content(..., stream=True)`](https://ai.google.dev/api/python/google/generativeai/GenerativeModel#generate_content).\n",
        "\n",
        "**Note**: This cell runs with a Google Colab runtime, but does not properly show streaming due to implementation details of Colab runtimes."
      ]
    },
    {
      "cell_type": "code",
      "execution_count": 3,
      "metadata": {
        "id": "nVWWGBsBok3m"
      },
      "outputs": [
        {
          "name": "stdout",
          "output_type": "stream",
          "text": [
            "Wh\n",
            "________________________________________________________________________________\n",
            "iskers, a fluffy ginger tabby, was convinced he was the ruler of the\n",
            "________________________________________________________________________________\n",
            " backyard. He surveyed his domain from atop the fence, his emerald eyes scanning the\n",
            "________________________________________________________________________________\n",
            " lush green lawn and vibrant flowerbeds. He wasn't alone, though. Across the fence, a sleek black cat named Shadow, with eyes like polished obsidian\n",
            "________________________________________________________________________________\n",
            ", watched him with a skeptical tilt of his head.\n",
            "\n",
            "\"You're not a king, Whiskers,\" Shadow meowed, his voice low and smooth\n",
            "________________________________________________________________________________\n",
            ". \"You're just a fluffy orange blob.\"\n",
            "\n",
            "Whiskers puffed up his chest, his orange fur bristling. \"I am the king of this garden!\" he declared, his voice a rumbling purr. \"I chase\n",
            "________________________________________________________________________________\n",
            " the squirrels, I supervise the birds, I even command the butterflies!\"\n",
            "\n",
            "Shadow chuckled. \"Commanding butterflies? You chase them, Whiskers, you don't command them.\"\n",
            "\n",
            "Whiskers, momentarily flustered, jumped\n",
            "________________________________________________________________________________\n",
            " down from the fence and began a dignified stroll through the garden. He paused by a patch of sunflowers, sniffed the air, and then let out a loud sneeze.\n",
            "\n",
            "\"Oh, the pollen!\" he grumbled, shaking his head.\n",
            "\n",
            "Shadow, perched on the fence, watched with amusement. He leaped down and sau\n",
            "________________________________________________________________________________\n",
            "ntered towards Whiskers.\n",
            "\n",
            "\"You know,\" he said, \"I could use some help chasing butterflies.\"\n",
            "\n",
            "Whiskers, his pride momentarily forgotten, looked up at Shadow with a curious tilt of his head. \"You want to chase butterflies?\"\n",
            "\n",
            "Shadow smirked. \"They're rather elusive, wouldn\n",
            "________________________________________________________________________________\n",
            "'t you say?\"\n",
            "\n",
            "And so, the unlikely duo, the orange king and the sleek black shadow, spent the afternoon chasing butterflies through the garden. They pounced and chased, their laughter echoing through the air.\n",
            "\n",
            "As the sun began to set, they settled down on a patch of warm grass, their tails\n",
            "________________________________________________________________________________\n",
            " intertwined.\n",
            "\n",
            "\"You know,\" Whiskers said, \"you're not so bad, Shadow.\"\n",
            "\n",
            "Shadow purred, his black fur gleaming in the fading light. \"You're not so bad yourself, Whiskers. Even if you are a fluffy orange blob.\"\n",
            "\n",
            "And so, the king of the\n",
            "________________________________________________________________________________\n",
            " garden and the shadow of the fence, two unlikely friends, shared a peaceful sunset, their rivalry forgotten in the warmth of their newfound companionship. \n",
            "\n",
            "________________________________________________________________________________\n"
          ]
        }
      ],
      "source": [
        "model = genai.GenerativeModel('gemini-1.5-flash')\n",
        "response = model.generate_content(\"Write a cute story about cats.\", stream=True)\n",
        "for chunk in response:\n",
        "    print(chunk.text)\n",
        "    print(\"_\"*80)"
      ]
    },
    {
      "cell_type": "markdown",
      "metadata": {
        "id": "KswwVyHCKC_n"
      },
      "source": [
        "## Handle streaming responses asynchronously\n",
        "\n",
        "To stream responses asynchronously, use [`GenerativeModel.generate_content_async(..., stream=True)`](https://ai.google.dev/api/python/google/generativeai/GenerativeModel#generate_content_async).\n",
        "\n",
        "**Note**: These cells do NOT work with a Google Colab runtime, but do work in a local Jupyter notebook."
      ]
    },
    {
      "cell_type": "code",
      "execution_count": 4,
      "metadata": {
        "id": "n6sXnWrJoKoo"
      },
      "outputs": [
        {
          "name": "stdout",
          "output_type": "stream",
          "text": [
            "Wh\n",
            "________________________________________________________________________________\n",
            "iskers the ginger cat was a master of naps. He could sleep anywhere,\n",
            "________________________________________________________________________________\n",
            " anytime, in any position. He was a fluffy, purring cloud, drifting\n",
            "________________________________________________________________________________\n",
            " through life on a sea of naps. His best friend, Mittens, a sleek black cat with eyes like emeralds, was the opposite. Mittens was\n",
            "________________________________________________________________________________\n",
            " a whirlwind of energy, always chasing dust motes, batting at imaginary foes, and leaping across furniture like a furry acrobat.\n",
            "\n",
            "One day, a bright red\n",
            "________________________________________________________________________________\n",
            " ball of yarn appeared in the living room. Mittens, naturally, pounced on it, batting it across the floor with glee. But Whiskers, still half-asleep, simply watched with one lazy eye.\n",
            "\n",
            "\"Come on\n",
            "________________________________________________________________________________\n",
            ", Whiskers!\" Mittens chirped, nudging the ball closer. \"It's fun!\"\n",
            "\n",
            "Whiskers yawned, stretching his paws. \"I'd rather nap,\" he mumbled, settling back down.\n",
            "\n",
            "Mitt\n",
            "________________________________________________________________________________\n",
            "ens, frustrated, tried to coax him. She chased the yarn around his head, making him swat at it playfully. But Whiskers, with the grace of a sleepy dragon, simply rolled away, leaving Mittens to play alone.\n",
            "\n",
            "As the day wore on, Mittens, exhausted from her play, curled up\n",
            "________________________________________________________________________________\n",
            " beside Whiskers. \"I'm tired,\" she sighed.\n",
            "\n",
            "Whiskers, eyes still closed, mumbled, \"That's what I've been saying.\"\n",
            "\n",
            "Mittens, feeling a little guilty, noticed the yarn ball nestled by Whiskers' paw. She nudged it closer. \"Do you\n",
            "________________________________________________________________________________\n",
            " want to play now?\"\n",
            "\n",
            "Whiskers opened one eye, a tiny smile playing on his lips. He batted the yarn ball gently with his paw, sending it rolling. \"Alright, just one quick game,\" he said, his voice like a purr.\n",
            "\n",
            "And so, the two friends, one a whirlwind\n",
            "________________________________________________________________________________\n",
            " and one a sleepy cloud, played together until the sun dipped below the horizon. It was the perfect way to end a day, a little playfulness before a long, cozy nap. They learned that sometimes, even the most different of friends could find joy in a shared moment, a red ball of yarn, and a\n",
            "________________________________________________________________________________\n",
            " nap under the warm glow of the setting sun. \n",
            "\n",
            "________________________________________________________________________________\n"
          ]
        }
      ],
      "source": [
        "async for chunk in await model.generate_content_async(\"Write a cute story about cats.\", stream=True):\n",
        "    if chunk.text:\n",
        "        print(chunk.text)\n",
        "    print(\"_\"*80)"
      ]
    },
    {
      "cell_type": "markdown",
      "metadata": {
        "id": "jpK3p1B4KC_o"
      },
      "source": [
        "Here's a simple example of two asynchronous functions running simultaneously."
      ]
    },
    {
      "cell_type": "code",
      "execution_count": 5,
      "metadata": {
        "id": "IJ-8SjYwKC_o"
      },
      "outputs": [
        {
          "name": "stdout",
          "output_type": "stream",
          "text": [
            "==========not blocked!==========\n",
            "Pen\n",
            "________________________________________________________________________________\n",
            "elope, a fluffy ginger tabby with a perpetually surprised expression, had a problem.\n",
            "________________________________________________________________________________\n",
            " A very important problem, in fact. The sunbeam, her favorite napping\n",
            "________________________________________________________________________________\n",
            " spot, was occupied. By a tiny, fluffy, grey kitten with emerald eyes, purring contentedly as it basked in the warmth.\n",
            "\n",
            "Penelope\n",
            "________________________________________________________________________________\n",
            " sighed. She'd been eyeing this particular sunbeam all morning, waiting for the perfect moment to claim it. But now, this little fluffball, barely\n",
            "________________________________________________________________________________\n",
            " bigger than her paw, was hogging it.\n",
            "\n",
            "She approached cautiously, her tail twitching with frustration. \"Excuse me, little one,\" she meowed gently. \"That's my sunbeam.\"\n",
            "\n",
            "The kitten blinked at her\n",
            "________________________________________________________________________________\n",
            ", its tiny pink nose twitching. \"It's my sunbeam now,\" it meowed back, its voice a tiny chirp.\n",
            "\n",
            "Penelope was taken aback. This tiny creature dared to challenge her? She puffed up her\n",
            "________________________________________________________________________________\n",
            "==========not blocked!==========\n",
            " chest, trying to look intimidating, but the kitten just yawned and snuggled deeper into the sunbeam.\n",
            "\n",
            "\"You're too small for this sunbeam,\" Penelope grumbled. \"You need to share.\"\n",
            "\n",
            "The kitten tilted its head, its emerald eyes twinkling. \"I'm not sharing,\" it chir\n",
            "________________________________________________________________________________\n",
            "ped, and then, to Penelope's surprise, it nuzzled closer to her, purring louder.\n",
            "\n",
            "Penelope felt a warmth spread through her chest, not just from the sun but from the kitten's tiny, insistent purr. She realized she couldn't be mad at this little creature. She\n",
            "________________________________________________________________________________\n",
            " nudged the kitten gently with her head, and the kitten, in return, gave her a tiny lick on the cheek.\n",
            "\n",
            "Penelope decided to let it be. After all, sharing a sunbeam with a purring, fuzzy kitten was a rather nice way to spend the afternoon. And maybe, just maybe,\n",
            "________________________________________________________________________________\n",
            " this little creature was onto something. Perhaps, sometimes, sharing the good things in life was better than keeping them all to yourself. \n",
            "\n",
            "________________________________________________________________________________\n",
            "==========not blocked!==========\n",
            "==========not blocked!==========\n",
            "==========not blocked!==========\n"
          ]
        }
      ],
      "source": [
        "import asyncio\n",
        "\n",
        "async def get_response():\n",
        "    async for chunk in await model.generate_content_async(\"Write a cute story about cats.\", stream=True):\n",
        "        if chunk.text:\n",
        "            print(chunk.text)\n",
        "        print(\"_\"*80)\n",
        "\n",
        "async def something_else():\n",
        "    for i in range(5):\n",
        "        print(\"==========not blocked!==========\")\n",
        "        await asyncio.sleep(3)\n",
        "\n",
        "async def async_demo():\n",
        "    # Create tasks\n",
        "    task1 = asyncio.create_task(get_response())\n",
        "    task2 = asyncio.create_task(something_else())\n",
        "\n",
        "    # Wait for tasks to complete\n",
        "    await asyncio.gather(task1, task2)\n",
        "\n",
        "# Jupyter notebooks handle event loops for you, so await directly\n",
        "await async_demo()"
      ]
    }
  ],
  "metadata": {
    "colab": {
      "name": "Streaming.ipynb",
      "toc_visible": true
    },
    "google": {
      "image_path": "/site-assets/images/share.png",
      "keywords": [
        "examples",
        "googleai",
        "samplecode",
        "python",
        "embed",
        "function"
      ]
    },
    "kernelspec": {
      "display_name": "Python 3",
      "name": "python3"
    },
    "language_info": {
      "codemirror_mode": {
        "name": "ipython",
        "version": 3
      },
      "file_extension": ".py",
      "mimetype": "text/x-python",
      "name": "python",
      "nbconvert_exporter": "python",
      "pygments_lexer": "ipython3",
      "version": "3.10.11"
    }
  },
  "nbformat": 4,
  "nbformat_minor": 0
}
