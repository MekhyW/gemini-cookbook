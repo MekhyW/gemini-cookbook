{
  "cells": [
    {
      "cell_type": "markdown",
      "metadata": {
        "id": "Tce3stUlHN0L"
      },
      "source": [
        "##### Copyright 2024 Google LLC."
      ]
    },
    {
      "cell_type": "code",
      "execution_count": null,
      "metadata": {
        "cellView": "form",
        "id": "tuOe1ymfHZPu"
      },
      "outputs": [],
      "source": [
        "# @title Licensed under the Apache License, Version 2.0 (the \"License\");\n",
        "# you may not use this file except in compliance with the License.\n",
        "# You may obtain a copy of the License at\n",
        "#\n",
        "# https://www.apache.org/licenses/LICENSE-2.0\n",
        "#\n",
        "# Unless required by applicable law or agreed to in writing, software\n",
        "# distributed under the License is distributed on an \"AS IS\" BASIS,\n",
        "# WITHOUT WARRANTIES OR CONDITIONS OF ANY KIND, either express or implied.\n",
        "# See the License for the specific language governing permissions and\n",
        "# limitations under the License."
      ]
    },
    {
      "cell_type": "markdown",
      "metadata": {
        "id": "dfsDR_omdNea"
      },
      "source": [
        "# Gemini API - read a PDF\n",
        "\n",
        "This notebook demonstrates how you can convert a PDF file so that it can be read by the Gemini API.\n",
        "\n",
        "<table align=\"left\">\n",
        "  <td>\n",
        "    <a target=\"_blank\" href=\"https://colab.research.google.com/github/google-gemini/cookbook/blob/main/quickstarts/PDF_Files.ipynb\"><img src=\"https://www.tensorflow.org/images/colab_logo_32px.png\" />Run in Google Colab</a>\n",
        "  </td>\n",
        "</table>"
      ]
    },
    {
      "cell_type": "markdown",
      "metadata": {
        "id": "FaqZItBdeokU"
      },
      "source": [
        "## Setup"
      ]
    },
    {
      "cell_type": "code",
      "execution_count": null,
      "metadata": {
        "id": "XKJ78ne3O0sB"
      },
      "outputs": [],
      "source": [
        "!pip install -Uq google-generativeai"
      ]
    },
    {
      "cell_type": "code",
      "execution_count": null,
      "metadata": {
        "id": "LUKlAk7iN_5e"
      },
      "outputs": [],
      "source": [
        "import google.generativeai as genai\n",
        "\n",
        "\n",
        "import pathlib\n",
        "import tqdm\n",
        "import os"
      ]
    },
    {
      "cell_type": "code",
      "execution_count": null,
      "metadata": {
        "id": "A9sUQ4WrP-Yr"
      },
      "outputs": [],
      "source": [
        "import json\n",
        "\n",
        "GOOGLE_API_KEY=json.load(open('api_key.json'))['GOOGLE_API_KEY']\n",
        "genai.configure(api_key=GOOGLE_API_KEY)"
      ]
    },
    {
      "cell_type": "markdown",
      "metadata": {
        "id": "thYL8XGjerMa"
      },
      "source": [
        "Install the PDF processing tools:"
      ]
    },
    {
      "cell_type": "code",
      "execution_count": null,
      "metadata": {
        "id": "iK30_utL1DhY"
      },
      "outputs": [],
      "source": [
        "!apt install poppler-utils"
      ]
    },
    {
      "cell_type": "markdown",
      "metadata": {
        "id": "jZj7pRt7exwE"
      },
      "source": [
        "## Download and proces the PDF"
      ]
    },
    {
      "cell_type": "markdown",
      "metadata": {
        "id": "WibRLdf2_Qoq"
      },
      "source": [
        "This textbook is from OpenStax, it's License is Commons Attribution License v4.0. More detrails are [available on the site](https://openstax.org/details/books/university-physics-volume-2)."
      ]
    },
    {
      "cell_type": "code",
      "execution_count": null,
      "metadata": {
        "id": "fOYiHxN95iVn"
      },
      "outputs": [],
      "source": [
        "import pathlib"
      ]
    },
    {
      "cell_type": "code",
      "execution_count": null,
      "metadata": {
        "id": "xo8VsYaY6mgl"
      },
      "outputs": [],
      "source": [
        "if not pathlib.Path('test.pdf').exists():\n",
        "    !curl -o test.pdf https://assets.openstax.org/oscms-prodcms/media/documents/UniversityPhysicsVolume2-WEB_5eNhMSa.pdf"
      ]
    },
    {
      "cell_type": "markdown",
      "metadata": {
        "id": "3V-NRhife2CA"
      },
      "source": [
        "You'll extract Chapter 3, pages [121-154]."
      ]
    },
    {
      "cell_type": "code",
      "execution_count": null,
      "metadata": {
        "id": "c6LD6PlpK3n8"
      },
      "outputs": [],
      "source": [
        "first = 121\n",
        "last = 154"
      ]
    },
    {
      "cell_type": "code",
      "execution_count": null,
      "metadata": {
        "id": "fH4WmrY_1MdQ"
      },
      "outputs": [],
      "source": [
        "!mkdir output\n",
        "! # extract images of Chapter 3\n",
        "!pdftoppm test.pdf -f {first} -l {last} output/images -jpeg\n",
        "!ls output"
      ]
    },
    {
      "cell_type": "markdown",
      "metadata": {
        "id": "hmIj4eQlfFot"
      },
      "source": [
        "Look at the first image, scaled down:"
      ]
    },
    {
      "cell_type": "code",
      "execution_count": null,
      "metadata": {
        "id": "JGOg-cvK11IC"
      },
      "outputs": [],
      "source": [
        "import PIL.Image"
      ]
    },
    {
      "cell_type": "code",
      "execution_count": null,
      "metadata": {
        "id": "9b0MfUwc17Mk"
      },
      "outputs": [],
      "source": [
        "img = PIL.Image.open(f\"output/images-{first}.jpg\")\n",
        "img.thumbnail([600, 600])\n",
        "img"
      ]
    },
    {
      "cell_type": "markdown",
      "metadata": {
        "id": "Qi6KAePlfMl4"
      },
      "source": [
        "Extract the text for those same pages."
      ]
    },
    {
      "cell_type": "code",
      "execution_count": null,
      "metadata": {
        "id": "zgqvbl0K2RKA"
      },
      "outputs": [],
      "source": [
        "for page_number in range(first,last+1):\n",
        "  page_number = f\"{page_number:03d}\"\n",
        "  ! pdftotext  test.pdf -f {page_number} -l {page_number}\n",
        "  ! mv test.txt output/text-{page_number}.txt"
      ]
    },
    {
      "cell_type": "code",
      "execution_count": null,
      "metadata": {
        "id": "Pfdv5rdG2ltK"
      },
      "outputs": [],
      "source": [
        "!ls output"
      ]
    },
    {
      "cell_type": "code",
      "execution_count": null,
      "metadata": {
        "id": "wG5tecfk84VP"
      },
      "outputs": [],
      "source": [
        "!cat output/text-{first}.txt"
      ]
    },
    {
      "cell_type": "markdown",
      "metadata": {
        "id": "D5bZ_n0MfV_a"
      },
      "source": [
        "## Assemble the files into a prompt"
      ]
    },
    {
      "cell_type": "markdown",
      "metadata": {
        "id": "3DnTs6-cfl43"
      },
      "source": [
        "Upload all the files using the files API, there are too many to send with the `generate_content` request."
      ]
    },
    {
      "cell_type": "code",
      "execution_count": null,
      "metadata": {
        "id": "LoR60ncl8-Zn"
      },
      "outputs": [],
      "source": [
        "files = []\n",
        "image_files = list(pathlib.Path(\"output\").glob('images-*.jpg'))\n",
        "for img in tqdm.tqdm(image_files):\n",
        "    files.append(genai.upload_file(img))"
      ]
    },
    {
      "cell_type": "markdown",
      "metadata": {
        "id": "l_0xCJbNfsYa"
      },
      "source": [
        "Load all the texts:"
      ]
    },
    {
      "cell_type": "code",
      "execution_count": null,
      "metadata": {
        "id": "fGx1ERx9Omz7"
      },
      "outputs": [],
      "source": [
        "texts = [t.read_text() for t in pathlib.Path(\"output\").glob('text-*.txt')]"
      ]
    },
    {
      "cell_type": "markdown",
      "metadata": {
        "id": "_CzHvWTpfvKI"
      },
      "source": [
        "Interleave the page-numbers, texts, and image-file references:"
      ]
    },
    {
      "cell_type": "code",
      "execution_count": null,
      "metadata": {
        "id": "sxpikEYcQnZG"
      },
      "outputs": [],
      "source": [
        "textbook = []\n",
        "for page, (text, image) in enumerate(zip(texts, files)):\n",
        "  textbook.append(f'## Page {first+page} ##')\n",
        "  textbook.append(text)\n",
        "  textbook.append(image)"
      ]
    },
    {
      "cell_type": "markdown",
      "metadata": {
        "id": "yXFZFUJHgTcU"
      },
      "source": [
        "## Try it out"
      ]
    },
    {
      "cell_type": "code",
      "execution_count": null,
      "metadata": {
        "id": "c7f7ebc3dde9"
      },
      "outputs": [],
      "source": [
        "model = genai.GenerativeModel(model_name='gemini-1.5-flash')"
      ]
    },
    {
      "cell_type": "code",
      "execution_count": null,
      "metadata": {
        "id": "123016f7809e"
      },
      "outputs": [],
      "source": [
        "response = model.generate_content(\n",
        "    ['# Here is a chapter from a physics text book:']+\n",
        "    textbook +\n",
        "    [\"[END]\\n\\nPlease sumarize it in sections for a better understanding\"]\n",
        ")"
      ]
    },
    {
      "cell_type": "code",
      "execution_count": null,
      "metadata": {
        "id": "700bb45acbc8"
      },
      "outputs": [],
      "source": [
        "from IPython.display import Markdown\n",
        "Markdown(response.text)"
      ]
    }
  ],
  "metadata": {
    "colab": {
      "name": "PDF_Files.ipynb",
      "toc_visible": true
    },
    "kernelspec": {
      "display_name": "Python 3",
      "name": "python3"
    },
    "language_info": {
      "codemirror_mode": {
        "name": "ipython",
        "version": 3
      },
      "file_extension": ".py",
      "mimetype": "text/x-python",
      "name": "python",
      "nbconvert_exporter": "python",
      "pygments_lexer": "ipython3",
      "version": "3.10.11"
    }
  },
  "nbformat": 4,
  "nbformat_minor": 0
}
